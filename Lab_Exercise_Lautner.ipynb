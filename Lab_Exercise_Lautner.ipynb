{
  "metadata": {
    "kernelspec": {
      "name": "python",
      "display_name": "Python (Pyodide)",
      "language": "python"
    },
    "language_info": {
      "codemirror_mode": {
        "name": "python",
        "version": 3
      },
      "file_extension": ".py",
      "mimetype": "text/x-python",
      "name": "python",
      "nbconvert_exporter": "python",
      "pygments_lexer": "ipython3",
      "version": "3.8"
    }
  },
  "nbformat_minor": 4,
  "nbformat": 4,
  "cells": [
    {
      "cell_type": "markdown",
      "source": "# Help Function for tests\n\n",
      "metadata": {}
    },
    {
      "cell_type": "code",
      "source": "def assert_equals(a, b):\n    return a == b",
      "metadata": {
        "trusted": true
      },
      "outputs": [],
      "execution_count": null
    },
    {
      "cell_type": "markdown",
      "source": "# Exercise 0\nIn mathematics, the factorial of a non-negative integer n, denoted by n!, is the product of all positive integers less than or equal to n. For example:\n\n5! = 5 * 4 * 3 * 2 * 1 = 120 \n\nBy convention the value of 0! is 1. Write a function to calculate factorial for a given input.",
      "metadata": {}
    },
    {
      "cell_type": "code",
      "source": "def factorial(nb):\n    res = 1\n    for i in range(1, nb+1):\n        res = res * i\n    return res\n",
      "metadata": {
        "trusted": true
      },
      "outputs": [],
      "execution_count": 106
    },
    {
      "cell_type": "code",
      "source": "factorial(0)",
      "metadata": {
        "trusted": true
      },
      "outputs": [
        {
          "execution_count": 102,
          "output_type": "execute_result",
          "data": {
            "text/plain": "1"
          },
          "metadata": {}
        }
      ],
      "execution_count": 109
    },
    {
      "cell_type": "code",
      "source": "factorial(1)",
      "metadata": {
        "trusted": true
      },
      "outputs": [
        {
          "execution_count": 103,
          "output_type": "execute_result",
          "data": {
            "text/plain": "1"
          },
          "metadata": {}
        }
      ],
      "execution_count": 110
    },
    {
      "cell_type": "code",
      "source": "factorial(2)",
      "metadata": {
        "trusted": true
      },
      "outputs": [
        {
          "execution_count": 104,
          "output_type": "execute_result",
          "data": {
            "text/plain": "2"
          },
          "metadata": {}
        }
      ],
      "execution_count": 111
    },
    {
      "cell_type": "code",
      "source": "factorial(3)",
      "metadata": {
        "trusted": true
      },
      "outputs": [
        {
          "execution_count": 105,
          "output_type": "execute_result",
          "data": {
            "text/plain": "6"
          },
          "metadata": {}
        }
      ],
      "execution_count": 112
    },
    {
      "cell_type": "code",
      "source": "factorial(4)",
      "metadata": {
        "trusted": true
      },
      "outputs": [
        {
          "execution_count": 107,
          "output_type": "execute_result",
          "data": {
            "text/plain": "24"
          },
          "metadata": {}
        }
      ],
      "execution_count": 114
    },
    {
      "cell_type": "code",
      "source": "factorial(6)",
      "metadata": {
        "trusted": true
      },
      "outputs": [
        {
          "execution_count": 106,
          "output_type": "execute_result",
          "data": {
            "text/plain": "720"
          },
          "metadata": {}
        }
      ],
      "execution_count": 113
    },
    {
      "cell_type": "code",
      "source": "print(assert_equals(factorial(0), 1))\nprint(assert_equals(factorial(1), 1))\nprint(assert_equals(factorial(2), 2))\nprint(assert_equals(factorial(3), 6))\nprint(assert_equals(factorial(4), 24))\nprint(assert_equals(factorial(6), 720))",
      "metadata": {
        "trusted": true
      },
      "outputs": [],
      "execution_count": null
    },
    {
      "cell_type": "markdown",
      "source": "# Exercise 1 \nWrite a function that always returns 5\n\nSounds easy right? Just bear in mind that you can't use any of the following characters: ` 0123456789*+-/ `\n",
      "metadata": {}
    },
    {
      "cell_type": "code",
      "source": "def unusual_five():\n    return len(\"fifth\")\n\nprint(unusual_five())\n",
      "metadata": {
        "trusted": true
      },
      "outputs": [
        {
          "name": "stdout",
          "text": "5\n",
          "output_type": "stream"
        }
      ],
      "execution_count": 45
    },
    {
      "cell_type": "markdown",
      "source": "# Exercise 2\nConsider an array of sheep where some sheep may be missing from their place. We need a function that counts the number of sheep present in the array (true means present).\n\nFor example,\n\n`\n[True,  True,  True,  False,\n  True,  True,  True,  True ,\n  True,  False, True,  False,\n  True,  False, False, True ,\n  True,  True,  True,  True ,\n  False, False, True,  True]\n`\n\nThe correct answer would be 17.\n\nHint: Don't forget to check for bad values like null/undefined",
      "metadata": {}
    },
    {
      "cell_type": "code",
      "source": "def count_sheep(array):\n    count = 0\n    for sheep in array:\n        if sheep is True:\n            count += 1\n    return count\n    print(count_sheep(sheep_array))",
      "metadata": {
        "trusted": true
      },
      "outputs": [],
      "execution_count": 179
    },
    {
      "cell_type": "code",
      "source": "array1 = [True,  True,  True,  False,\n          True,  True,  True,  True ,\n          True,  False, True,  False,\n          True,  False, False, True ,\n          True,  True,  True,  True ,\n          False, False, True,  True ];",
      "metadata": {
        "trusted": true
      },
      "outputs": [],
      "execution_count": 180
    },
    {
      "cell_type": "code",
      "source": "array2 = []\n",
      "metadata": {
        "trusted": true
      },
      "outputs": [],
      "execution_count": 181
    },
    {
      "cell_type": "code",
      "source": "array3 = [True,  True,  True,  False,\n          True,  False, True,  False,\n          True,  False, False, True ,\n          True,  True,  True,  True ,\n          False, False, True,  True ];",
      "metadata": {
        "trusted": true
      },
      "outputs": [],
      "execution_count": 182
    },
    {
      "cell_type": "markdown",
      "source": "# Exercise 3\nYour team is writing a fancy new text editor and you've been tasked with implementing the line numbering.\n\nWrite a function which takes a list of strings and returns each line prepended by the correct number.\n\nThe numbering starts at 1. The format is n: string. Notice the colon and space in between.\n\nExamples:\n\n`\nnumber([]) # => []\nnumber([\"a\", \"b\", \"c\"]) # => [\"1: a\", \"2: b\", \"3: c\"]\n`",
      "metadata": {}
    },
    {
      "cell_type": "code",
      "source": "def number(lines):\n    result = []\n    for i in range(len(lines)):\n        result.append(str(i + 1) + \": \" + lines[i])\n    return result",
      "metadata": {
        "trusted": true
      },
      "outputs": [],
      "execution_count": null
    },
    {
      "cell_type": "code",
      "source": "number([\"a\", \"b\", \"c\"])",
      "metadata": {
        "trusted": true
      },
      "outputs": [
        {
          "execution_count": 119,
          "output_type": "execute_result",
          "data": {
            "text/plain": "['1: a', '2: b', '3: c']"
          },
          "metadata": {}
        }
      ],
      "execution_count": 126
    },
    {
      "cell_type": "code",
      "source": "number(['', '', '', '', ''])",
      "metadata": {
        "trusted": true
      },
      "outputs": [
        {
          "execution_count": 120,
          "output_type": "execute_result",
          "data": {
            "text/plain": "['1: ', '2: ', '3: ', '4: ', '5: ']"
          },
          "metadata": {}
        }
      ],
      "execution_count": 127
    },
    {
      "cell_type": "code",
      "source": "number(['', 'b', '', '', ''])",
      "metadata": {
        "trusted": true
      },
      "outputs": [
        {
          "execution_count": 121,
          "output_type": "execute_result",
          "data": {
            "text/plain": "['1: ', '2: b', '3: ', '4: ', '5: ']"
          },
          "metadata": {}
        }
      ],
      "execution_count": 128
    },
    {
      "cell_type": "code",
      "source": "# Basic Tests\n# print(assert_equals(number([]), []))\nprint(assert_equals(number([\"a\", \"b\", \"c\"]), [\"1: a\", \"2: b\", \"3: c\"]))\nprint(assert_equals(number(['', '', '', '', '']), ['1: ', '2: ', '3: ', '4: ', '5: ']))\nprint(assert_equals(number(['', 'b', '', '', '']), ['1: ', '2: b', '3: ', '4: ', '5: ']))",
      "metadata": {
        "trusted": true
      },
      "outputs": [],
      "execution_count": null
    },
    {
      "cell_type": "markdown",
      "source": "# Exercise 4\nTwo tortoises named A and B must run a race. A starts with an average speed of 720 feet per hour. Young B knows she runs faster than A, and furthermore has not finished her cabbage.\n\nWhen she starts, at last, she can see that A has a 70 feet lead but B's speed is 850 feet per hour. How long will it take B to catch A?\n\nMore generally: given two speeds v1 (A's speed, integer > 0) and v2 (B's speed, integer > 0) and a lead g (integer > 0) how long will it take B to catch A?\n\n\nThe result will be an array [hour, min, sec] which is the time needed in hours, minutes and seconds (round down to the nearest second) or a string in some languages.\n\n\nIf v1 >= v2 then return None. \n\nExamples:\n\n```python\nrace(720, 850, 70) => [0, 32, 18] \nrace(80, 91, 37)   => [3, 21, 49] \nrace(80, 100, 40) =>  [2, 0, 0]\n\n\n```\n\n\nNote:\nSee other examples in \"Your test cases\".\n\n** Hints for people who don't know how to convert to hours, minutes, seconds:\n\n. Tortoises don't care about fractions of seconds\n\n. Think of calculation by hand using only integers (in your code use or simulate integer division)\n      . or Google: \"convert decimal time to hours minutes seconds\"\n",
      "metadata": {}
    },
    {
      "cell_type": "code",
      "source": "def race(v1, v2, g):\n    if v1 >= v2:\n        return \"no valid calucaltion - A > B\"\n    time_in_hours = g / (v2 - v1)\n    hours = int(time_in_hours)\n    minutes = int((time_in_hours - hours) * 60)\n    seconds = int(((time_in_hours - hours) * 60 - minutes) * 60)\n    \n    return [hours, minutes, seconds]",
      "metadata": {
        "trusted": true
      },
      "outputs": [],
      "execution_count": 170
    },
    {
      "cell_type": "code",
      "source": "# Basic Tests\nprint(assert_equals(race(720, 850, 70), [0, 32, 18]))\nprint(assert_equals(race(80, 91, 37), [3, 21, 49]))\nprint(assert_equals(race(80, 100, 40),  [2, 0, 0]))\n",
      "metadata": {
        "trusted": true
      },
      "outputs": [
        {
          "ename": "<class 'NameError'>",
          "evalue": "name 'assert_equals' is not defined",
          "traceback": [
            "\u001b[0;31m---------------------------------------------------------------------------\u001b[0m",
            "\u001b[0;31mNameError\u001b[0m                                 Traceback (most recent call last)",
            "Cell \u001b[0;32mIn[11], line 2\u001b[0m\n\u001b[1;32m      1\u001b[0m \u001b[38;5;66;03m# Basic Tests\u001b[39;00m\n\u001b[0;32m----> 2\u001b[0m \u001b[38;5;28mprint\u001b[39m(\u001b[43massert_equals\u001b[49m(race(\u001b[38;5;241m720\u001b[39m, \u001b[38;5;241m850\u001b[39m, \u001b[38;5;241m70\u001b[39m), [\u001b[38;5;241m0\u001b[39m, \u001b[38;5;241m32\u001b[39m, \u001b[38;5;241m18\u001b[39m]))\n\u001b[1;32m      3\u001b[0m \u001b[38;5;28mprint\u001b[39m(assert_equals(race(\u001b[38;5;241m80\u001b[39m, \u001b[38;5;241m91\u001b[39m, \u001b[38;5;241m37\u001b[39m), [\u001b[38;5;241m3\u001b[39m, \u001b[38;5;241m21\u001b[39m, \u001b[38;5;241m49\u001b[39m]))\n\u001b[1;32m      4\u001b[0m \u001b[38;5;28mprint\u001b[39m(assert_equals(race(\u001b[38;5;241m80\u001b[39m, \u001b[38;5;241m100\u001b[39m, \u001b[38;5;241m40\u001b[39m),  [\u001b[38;5;241m2\u001b[39m, \u001b[38;5;241m0\u001b[39m, \u001b[38;5;241m0\u001b[39m]))\n",
            "\u001b[0;31mNameError\u001b[0m: name 'assert_equals' is not defined"
          ],
          "output_type": "error"
        }
      ],
      "execution_count": 11
    },
    {
      "cell_type": "code",
      "source": "print(race(720,850,70))",
      "metadata": {
        "trusted": true
      },
      "outputs": [
        {
          "name": "stdout",
          "text": "[0, 32, 18]\n",
          "output_type": "stream"
        }
      ],
      "execution_count": 171
    },
    {
      "cell_type": "code",
      "source": "print(race(80, 91, 37))",
      "metadata": {
        "trusted": true
      },
      "outputs": [
        {
          "name": "stdout",
          "text": "[3, 21, 49]\n",
          "output_type": "stream"
        }
      ],
      "execution_count": 172
    },
    {
      "cell_type": "code",
      "source": " print(race(80, 100, 40))",
      "metadata": {
        "trusted": true
      },
      "outputs": [
        {
          "name": "stdout",
          "text": "[2, 0, 0]\n",
          "output_type": "stream"
        }
      ],
      "execution_count": 173
    },
    {
      "cell_type": "code",
      "source": "",
      "metadata": {
        "trusted": true
      },
      "outputs": [],
      "execution_count": null
    }
  ]
}