{
  "metadata": {
    "kernelspec": {
      "name": "python",
      "display_name": "Python (Pyodide)",
      "language": "python"
    },
    "language_info": {
      "codemirror_mode": {
        "name": "python",
        "version": 3
      },
      "file_extension": ".py",
      "mimetype": "text/x-python",
      "name": "python",
      "nbconvert_exporter": "python",
      "pygments_lexer": "ipython3",
      "version": "3.8"
    }
  },
  "nbformat_minor": 4,
  "nbformat": 4,
  "cells": [
    {
      "cell_type": "markdown",
      "source": "# Exercice 1\n\nWrite a function called **string_to_array** that split a string and convert it into an array of words. The function should take one str argument and does not return anything, just print the array of words. \n\nFor example:\n\n```python\n\"Robin Singh\" should return [\"Robin\", \"Singh\"]\n\n\"I love arrays they are my favorite\" should return [\"I\", \"love\", \"arrays\", \"they\", \"are\", \"my\", \"favorite\"]\n```\n\n### check your answer with the following strings \n\n```\n\nstring_to_array(\"Robin Singh\") should print [\"Robin\", \"Singh\"])\n\nstring_to_array(\"CodeWars\") should print [\"CodeWars\"]\n\nstring_to_array(\"I love arrays they are my favorite\") should print [\"I\", \"love\", \"arrays\", \"they\", \"are\", \"my\", \"favorite\"]\n\nstring_to_array(\"1 2 3\") should print [\"1\", \"2\", \"3\"]\n\nstring_to_array(\"\") should print [\"\"]\n```",
      "metadata": {}
    },
    {
      "cell_type": "code",
      "source": "# NOTE! \"pass\" is a keyword for an empty function. It tells the compiler that it is not an error if a function is empty\n# https://docs.python.org/3/library/stdtypes.html#str.split\ndef string_to_array(x):\n    print(x.split())\n",
      "metadata": {
        "trusted": true
      },
      "outputs": [],
      "execution_count": 8
    },
    {
      "cell_type": "code",
      "source": "string_to_array(\"Robin Singh\")",
      "metadata": {
        "trusted": true
      },
      "outputs": [
        {
          "name": "stdout",
          "text": "['Robin', 'Singh']\n",
          "output_type": "stream"
        }
      ],
      "execution_count": 3
    },
    {
      "cell_type": "code",
      "source": "string_to_array(\"CodeWars\")",
      "metadata": {
        "trusted": true
      },
      "outputs": [
        {
          "name": "stdout",
          "text": "['CodeWars']\n",
          "output_type": "stream"
        }
      ],
      "execution_count": 9
    },
    {
      "cell_type": "code",
      "source": "string_to_array(\"I love arrays they are my favorite\")",
      "metadata": {
        "trusted": true
      },
      "outputs": [
        {
          "name": "stdout",
          "text": "['I', 'love', 'arrays', 'they', 'are', 'my', 'favorite']\n",
          "output_type": "stream"
        }
      ],
      "execution_count": 10
    },
    {
      "cell_type": "code",
      "source": "string_to_array(\"1 2 3\")",
      "metadata": {
        "trusted": true
      },
      "outputs": [
        {
          "name": "stdout",
          "text": "['1', '2', '3']\n",
          "output_type": "stream"
        }
      ],
      "execution_count": 11
    },
    {
      "cell_type": "code",
      "source": "string_to_array(\"\")",
      "metadata": {
        "trusted": true
      },
      "outputs": [
        {
          "name": "stdout",
          "text": "[]\n",
          "output_type": "stream"
        }
      ],
      "execution_count": 12
    },
    {
      "cell_type": "markdown",
      "source": "# Exercice 2: \n\nUsually when you buy something, you're asked whether your credit card number, phone number or answer to your most secret question is still correct. However, since someone could look over your shoulder, you don't want that shown on your screen. Instead, we mask it.\n\nYour task is to write a function called **maskify**, which changes all but the last four characters into '#' and return the value as a string (str).\n\nOutput example: \n\"What was the name of your first pet?\"\n\n```python \nmaskify(\"Skippy\")                                   == \"##ippy\"\nmaskify(\"Nananananananananananananananana Batman!\") == \"####################################man!\"\n```\n\n### check your answer with the following strings \n```python \nmaskify(\"4556364607935616\") == \"############5616\"\nmaskify(     \"64607935616\") ==      \"#######5616\"\nmaskify(               \"1\") ==                \"1\"\nmaskify(                \"\") ==                 \"\"\n```\n\n",
      "metadata": {}
    },
    {
      "cell_type": "code",
      "source": "def maskify(your_str):\n    if len(your_str) <= 4:\n        return your_str\n    return \"#\" * (len(your_str) - 4) + your_str[-4:]",
      "metadata": {
        "trusted": true
      },
      "outputs": [],
      "execution_count": 21
    },
    {
      "cell_type": "code",
      "source": "maskify(\"4556364607935616\")",
      "metadata": {
        "trusted": true
      },
      "outputs": [
        {
          "execution_count": 22,
          "output_type": "execute_result",
          "data": {
            "text/plain": "'############5616'"
          },
          "metadata": {}
        }
      ],
      "execution_count": 22
    },
    {
      "cell_type": "code",
      "source": "maskify(\"64607935616\")",
      "metadata": {
        "trusted": true
      },
      "outputs": [
        {
          "execution_count": 23,
          "output_type": "execute_result",
          "data": {
            "text/plain": "'#######5616'"
          },
          "metadata": {}
        }
      ],
      "execution_count": 23
    },
    {
      "cell_type": "code",
      "source": "maskify(\"1\")",
      "metadata": {
        "trusted": true
      },
      "outputs": [
        {
          "execution_count": 24,
          "output_type": "execute_result",
          "data": {
            "text/plain": "'1'"
          },
          "metadata": {}
        }
      ],
      "execution_count": 24
    },
    {
      "cell_type": "code",
      "source": "maskify(\"\")",
      "metadata": {
        "trusted": true
      },
      "outputs": [
        {
          "execution_count": 25,
          "output_type": "execute_result",
          "data": {
            "text/plain": "''"
          },
          "metadata": {}
        }
      ],
      "execution_count": 25
    },
    {
      "cell_type": "markdown",
      "source": "# Exercice 3\nYour task is to create a function that does four basic mathematical operations.\n\nThe function should take three arguments - \n\noperation(string/char), \n\nvalue1(number), \n\nvalue2(number).\n\nThe function should return result of numbers after applying the chosen operation.\n\nExamples\n```python\nbasic_op('+', 4, 7)         # Output: 11\nbasic_op('-', 15, 18)       # Output: -3\nbasic_op('*', 5, 5)         # Output: 25\nbasic_op('/', 49, 7)        # Output: 7\n```",
      "metadata": {}
    },
    {
      "cell_type": "code",
      "source": "def basic_op(operator, value1, value2):\n    if operator == '+':\n        return value1 + value2\n    elif operator == '-':\n        return value1 - value2\n    elif operator == '*':\n        return value1 * value2\n    elif operator == '/':\n        if value2 == 0:\n            return \"Error, Division by 0\"\n        return value1 / value2",
      "metadata": {
        "trusted": true
      },
      "outputs": [],
      "execution_count": 75
    },
    {
      "cell_type": "code",
      "source": "basic_op('+', 4, 7)",
      "metadata": {
        "trusted": true
      },
      "outputs": [
        {
          "execution_count": 29,
          "output_type": "execute_result",
          "data": {
            "text/plain": "11"
          },
          "metadata": {}
        }
      ],
      "execution_count": 29
    },
    {
      "cell_type": "code",
      "source": "basic_op('-', 15, 18)",
      "metadata": {
        "trusted": true
      },
      "outputs": [
        {
          "execution_count": 30,
          "output_type": "execute_result",
          "data": {
            "text/plain": "-3"
          },
          "metadata": {}
        }
      ],
      "execution_count": 30
    },
    {
      "cell_type": "code",
      "source": "basic_op('*', 5, 5)",
      "metadata": {
        "trusted": true
      },
      "outputs": [
        {
          "execution_count": 31,
          "output_type": "execute_result",
          "data": {
            "text/plain": "25"
          },
          "metadata": {}
        }
      ],
      "execution_count": 31
    },
    {
      "cell_type": "code",
      "source": "basic_op('/', 49, 7)",
      "metadata": {
        "trusted": true
      },
      "outputs": [
        {
          "execution_count": 77,
          "output_type": "execute_result",
          "data": {
            "text/plain": "7.0"
          },
          "metadata": {}
        }
      ],
      "execution_count": 77
    },
    {
      "cell_type": "markdown",
      "source": "# Exercice 4\nWho remembers back to their time in the schoolyard, when you would take a flower and tear its petals, saying each of the following phrases each time a petal was torn:\n\n`\nI like you\na little\na lot\npassionately\nmadly\nnot at all\n`\n\nWhen the last petal was torn there were cries of excitement, dreams, surging thoughts and emotions.\n\n\nYour goal is to determine which phrase you would say for a flower of a given number of petals, where **nb_petals > 0**.\n\nExamples: \n\n```python\nhow_much_i_like_you(7)         # Output: \"I like you\"\nhow_much_i_like_you(2)         # Output: \"a little\"\nhow_much_i_like_you(5)         # Output: \"madly\"\nhow_much_i_like_you(9)         # Output: \"a lot\"\n```\n\n",
      "metadata": {}
    },
    {
      "cell_type": "code",
      "source": "def how_much_i_like_you(nb_petals):\n    if nb_petals == 1:\n        print(\"I like you\")\n    elif nb_petals == 2:\n        print(\"a little\")\n    elif nb_petals == 3:\n        print(\"a lot\")\n    elif nb_petals == 4:\n        print(\"passionately\")\n    elif nb_petals == 5:\n        print(\"madly\")\n    elif nb_petals == 6:\n        print(\"not at all\")\n  \n#Zyklus wird wiederholt, da die Beispiele >6 sind. Es wird durch eine einfach Rechnung getätigt, um den Richtigen Satz zu erhalten.\n    else:\n        nb_petals = nb_petals - 6\n        if nb_petals == 1:\n            print(\"I like you\")\n        elif nb_petals == 2:\n            print(\"a little\")\n        elif nb_petals == 3:\n            print(\"a lot\")\n        elif nb_petals == 4:\n            print(\"passionately\")\n        elif nb_petals == 5:\n            print(\"madly\")\n        elif nb_petals == 6:\n            print(\"not at all\")",
      "metadata": {
        "trusted": true
      },
      "outputs": [],
      "execution_count": 37
    },
    {
      "cell_type": "code",
      "source": "how_much_i_like_you(7)",
      "metadata": {
        "trusted": true
      },
      "outputs": [
        {
          "name": "stdout",
          "text": "I like you\n",
          "output_type": "stream"
        }
      ],
      "execution_count": 38
    },
    {
      "cell_type": "code",
      "source": "how_much_i_like_you(2)",
      "metadata": {
        "trusted": true
      },
      "outputs": [
        {
          "name": "stdout",
          "text": "a little\n",
          "output_type": "stream"
        }
      ],
      "execution_count": 39
    },
    {
      "cell_type": "code",
      "source": "how_much_i_like_you(5) ",
      "metadata": {
        "trusted": true
      },
      "outputs": [
        {
          "name": "stdout",
          "text": "madly\n",
          "output_type": "stream"
        }
      ],
      "execution_count": 41
    },
    {
      "cell_type": "code",
      "source": "how_much_i_like_you(9) ",
      "metadata": {
        "trusted": true
      },
      "outputs": [
        {
          "name": "stdout",
          "text": "a lot\n",
          "output_type": "stream"
        }
      ],
      "execution_count": 40
    },
    {
      "cell_type": "markdown",
      "source": "# Exercice 5 (slicing)\nYou are going to be given an array of integers. Your job is to take that array and find an index N where the sum of the integers to the left of N is equal to the sum of the integers to the right of N. If there is no index that would make this happen, return -1.\n\nFor example:\n\nLet's say you are given the array {1,2,3,4,3,2,1}:\nYour function will return the index 3, because at the 3rd position of the array, the sum of left side of the index ({1,2,3}) and the sum of the right side of the index ({3,2,1}) both equal 6.\n\nLet's look at another one.\nYou are given the array {1,100,50,-51,1,1}:\nYour function will return the index 1, because at the 1st position of the array, the sum of left side of the index ({1}) and the sum of the right side of the index ({50,-51,1,1}) both equal 1.\n\nLast one:\nYou are given the array {20,10,-80,10,10,15,35}\nAt index 0 the left side is {}\nThe right side is {10,-80,10,10,15,35}\nThey both are equal to 0 when added. (Empty arrays are equal to 0 in this problem)\nIndex 0 is the place where the left side and right side are equal.\n\nNote: Please remember that in python the index of an array starts at 0.\n\nInput:\nAn integer array of length 0 < arr < 1000. The numbers in the array can be any integer positive or negative.\n\nOutput:\nThe lowest index N where the side to the left of N is equal to the side to the right of N. If you do not find an index that fits these rules, then you will return -1.\n\nNote:\nIf you are given an array with multiple answers, return the lowest correct index.\n\nCheck your answer with the following arrays\n\n```\nfind_even_index([1,2,3,4,3,2,1]) should return 3\nfind_even_index([1,100,50,-51,1,1]) should return 1\nfind_even_index([1,2,3,4,5,6]) should return -1\nfind_even_index([20,10,30,10,10,15,35]) should return 3\nfind_even_index([20,10,-80,10,10,15,35]) should return 0\nfind_even_index([10,-80,10,10,15,35,20]) should return 6\nfind_even_index(range(1,100)) should return -1\nfind_even_index([-1,-2,-3,-4,-3,-2,-1]) should return 3\nfind_even_index(range(-100,-1)) should return -1\nfind_even_index([0,0,0,0,0]) should return 0 because it Should pick the first index if more cases are valid\n```",
      "metadata": {}
    },
    {
      "cell_type": "code",
      "source": "def find_even_index(arr):\n    for i in range(len(arr)):\n        left_sum = 0\n        for j in range(i):\n            left_sum += arr[j]\n        right_sum = 0\n        for k in range(i + 1, len(arr)):\n            right_sum += arr[k]\n        if left_sum == right_sum:\n            return i\n    return -1",
      "metadata": {
        "trusted": true
      },
      "outputs": [],
      "execution_count": 42
    },
    {
      "cell_type": "code",
      "source": "find_even_index([1,2,3,4,3,2,1])",
      "metadata": {
        "trusted": true
      },
      "outputs": [
        {
          "execution_count": 56,
          "output_type": "execute_result",
          "data": {
            "text/plain": "3"
          },
          "metadata": {}
        }
      ],
      "execution_count": 56
    },
    {
      "cell_type": "code",
      "source": "find_even_index([1,100,50,-51,1,1])",
      "metadata": {
        "trusted": true
      },
      "outputs": [
        {
          "execution_count": 57,
          "output_type": "execute_result",
          "data": {
            "text/plain": "1"
          },
          "metadata": {}
        }
      ],
      "execution_count": 57
    },
    {
      "cell_type": "code",
      "source": "find_even_index([1,2,3,4,5,6])",
      "metadata": {
        "trusted": true
      },
      "outputs": [
        {
          "execution_count": 58,
          "output_type": "execute_result",
          "data": {
            "text/plain": "-1"
          },
          "metadata": {}
        }
      ],
      "execution_count": 58
    },
    {
      "cell_type": "code",
      "source": "find_even_index([20,10,30,10,10,15,35])",
      "metadata": {
        "trusted": true
      },
      "outputs": [
        {
          "execution_count": 59,
          "output_type": "execute_result",
          "data": {
            "text/plain": "3"
          },
          "metadata": {}
        }
      ],
      "execution_count": 59
    },
    {
      "cell_type": "code",
      "source": "find_even_index([20,10,-80,10,10,15,35])",
      "metadata": {
        "trusted": true
      },
      "outputs": [
        {
          "execution_count": 60,
          "output_type": "execute_result",
          "data": {
            "text/plain": "0"
          },
          "metadata": {}
        }
      ],
      "execution_count": 60
    },
    {
      "cell_type": "code",
      "source": "find_even_index([10,-80,10,10,15,35,20])",
      "metadata": {
        "trusted": true
      },
      "outputs": [
        {
          "execution_count": 61,
          "output_type": "execute_result",
          "data": {
            "text/plain": "6"
          },
          "metadata": {}
        }
      ],
      "execution_count": 61
    },
    {
      "cell_type": "code",
      "source": "find_even_index([1,100])",
      "metadata": {
        "trusted": true
      },
      "outputs": [
        {
          "execution_count": 62,
          "output_type": "execute_result",
          "data": {
            "text/plain": "-1"
          },
          "metadata": {}
        }
      ],
      "execution_count": 62
    },
    {
      "cell_type": "code",
      "source": "find_even_index([-1,-2,-3,-4,-3,-2,-1])",
      "metadata": {
        "trusted": true
      },
      "outputs": [
        {
          "execution_count": 63,
          "output_type": "execute_result",
          "data": {
            "text/plain": "3"
          },
          "metadata": {}
        }
      ],
      "execution_count": 63
    },
    {
      "cell_type": "code",
      "source": "find_even_index([-100,-1])",
      "metadata": {
        "trusted": true
      },
      "outputs": [
        {
          "execution_count": 64,
          "output_type": "execute_result",
          "data": {
            "text/plain": "-1"
          },
          "metadata": {}
        }
      ],
      "execution_count": 64
    },
    {
      "cell_type": "code",
      "source": "find_even_index([0,0,0,0,0])",
      "metadata": {
        "trusted": true
      },
      "outputs": [
        {
          "execution_count": 65,
          "output_type": "execute_result",
          "data": {
            "text/plain": "0"
          },
          "metadata": {}
        }
      ],
      "execution_count": 65
    },
    {
      "cell_type": "markdown",
      "source": "# Exercice 6 \nYou are given an input string.\n\nFor each symbol in the string if it's the first character occurence, replace it with a '1', else replace it with the amount of times you've already seen it...\n\nExamples: \n\n```python\ninput   =  \"Hello, World!\"\nresult  =  \"1112111121311\"\n\ninput   =  \"aaaaaaaaaaaa\"\nresult  =  \"123456789101112\"\n```\n\nTest your code with the following strings\n\n`\nnumericals(\"Hello, World!\")  should return  \"1112111121311\"\nnumericals(\"Hello, World! It's me, JomoPipi!\") should return \"11121111213112111131224132411122\"\nnumericals(\"hello hello\") should return  \"11121122342\"\nnumericals(\"Hello\") should return \"11121\"\nnumericals(\"aaaaaaaaaaaa\") should return \"123456789101112\"\n`",
      "metadata": {}
    },
    {
      "cell_type": "code",
      "source": "def numericals(your_str):\n    result = \"\"\n    seen = {}\n    for char in your_str:\n        if char in seen:\n            seen[char] += 1\n            result += str(seen[char])\n        else:\n            seen[char] = 1\n            result += '1'\n    return result",
      "metadata": {
        "trusted": true
      },
      "outputs": [],
      "execution_count": 73
    },
    {
      "cell_type": "code",
      "source": "numericals(\"Hello, World!\")",
      "metadata": {
        "trusted": true
      },
      "outputs": [
        {
          "execution_count": 74,
          "output_type": "execute_result",
          "data": {
            "text/plain": "'1112111121311'"
          },
          "metadata": {}
        }
      ],
      "execution_count": 74
    },
    {
      "cell_type": "code",
      "source": "numericals(\"Hello, World! It's me, JomoPipi!\")",
      "metadata": {
        "trusted": true
      },
      "outputs": [
        {
          "execution_count": 69,
          "output_type": "execute_result",
          "data": {
            "text/plain": "'11121111213112111131224132411122'"
          },
          "metadata": {}
        }
      ],
      "execution_count": 69
    },
    {
      "cell_type": "code",
      "source": "numericals(\"hello hello\")",
      "metadata": {
        "trusted": true
      },
      "outputs": [
        {
          "execution_count": 70,
          "output_type": "execute_result",
          "data": {
            "text/plain": "'11121122342'"
          },
          "metadata": {}
        }
      ],
      "execution_count": 70
    },
    {
      "cell_type": "code",
      "source": "numericals(\"Hello\")",
      "metadata": {
        "trusted": true
      },
      "outputs": [
        {
          "execution_count": 71,
          "output_type": "execute_result",
          "data": {
            "text/plain": "'11121'"
          },
          "metadata": {}
        }
      ],
      "execution_count": 71
    },
    {
      "cell_type": "code",
      "source": "numericals(\"aaaaaaaaaaaa\")",
      "metadata": {
        "trusted": true
      },
      "outputs": [
        {
          "execution_count": 72,
          "output_type": "execute_result",
          "data": {
            "text/plain": "'123456789101112'"
          },
          "metadata": {}
        }
      ],
      "execution_count": 72
    },
    {
      "cell_type": "markdown",
      "source": "# Exercice 7 \n\nWrite a function called 'solve'. It shoud take two arrays of string and return the number of times each string of the second array appears in the first array.\n\nExample\n\narray1 = ['abc', 'abc', 'xyz', 'cde', 'uvw']\n\narray2 = ['abc', 'cde', 'uap']\n\nHow many times do the elements in array2 appear in array1?\n\n\n'abc' appears twice in the first array (2)\n\n'cde' appears only once (1)\n\n'uap' does not appear in the first array (0)\n\nTherefore, solve(array1, array2) = [2, 1, 0]\n\n\n\n",
      "metadata": {}
    },
    {
      "cell_type": "code",
      "source": "# your code here\ndef solve(a,b):\n    result = []\n    for item in b:\n        count = 0\n        for element in a:\n            if item == element:\n                count += 1\n        result.append(count)\n    return result",
      "metadata": {
        "trusted": true
      },
      "outputs": [],
      "execution_count": 78
    },
    {
      "cell_type": "code",
      "source": "solve(['abc', 'abc','xyz','abcd','cde'], ['abc', 'cde', 'uap'])",
      "metadata": {
        "trusted": true
      },
      "outputs": [
        {
          "execution_count": 80,
          "output_type": "execute_result",
          "data": {
            "text/plain": "[2, 1, 0]"
          },
          "metadata": {}
        }
      ],
      "execution_count": 80
    },
    {
      "cell_type": "code",
      "source": "solve(['abc', 'xyz','abc', 'xyz','cde'], ['abc', 'cde', 'xyz'])",
      "metadata": {
        "trusted": true
      },
      "outputs": [
        {
          "execution_count": 81,
          "output_type": "execute_result",
          "data": {
            "text/plain": "[2, 1, 2]"
          },
          "metadata": {}
        }
      ],
      "execution_count": 81
    },
    {
      "cell_type": "code",
      "source": "solve(['quick', 'brown', 'fox', 'is', 'quick'], ['quick', 'abc', 'fox'])",
      "metadata": {
        "trusted": true
      },
      "outputs": [
        {
          "execution_count": 82,
          "output_type": "execute_result",
          "data": {
            "text/plain": "[2, 0, 1]"
          },
          "metadata": {}
        }
      ],
      "execution_count": 82
    },
    {
      "cell_type": "code",
      "source": "# solve(['abc', 'abc','xyz','abcd','cde'], ['abc', 'cde', 'uap']) # should give [2, 1, 0]\n# solve(['abc', 'xyz','abc', 'xyz','cde'], ['abc', 'cde', 'xyz']) # should give  [2, 1, 2])\n# solve(['quick', 'brown', 'fox', 'is', 'quick'], ['quick', 'abc', 'fox']) # should give [2, 0, 1])",
      "metadata": {
        "trusted": true
      },
      "outputs": [],
      "execution_count": null
    }
  ]
}